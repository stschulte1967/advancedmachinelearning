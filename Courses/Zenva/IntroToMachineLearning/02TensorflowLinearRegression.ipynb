{
 "cells": [
  {
   "cell_type": "code",
   "execution_count": 1,
   "id": "b3f8c8c4",
   "metadata": {},
   "outputs": [],
   "source": [
    "import tensorflow as tf\n",
    "import matplotlib.pyplot as plt\n",
    "import numpy as np"
   ]
  },
  {
   "cell_type": "code",
   "execution_count": 2,
   "id": "dc43d5af",
   "metadata": {},
   "outputs": [],
   "source": [
    "m = 2.0\n",
    "b = 0.5\n",
    "x = np.linspace(0,4,100)\n",
    "y = m * x + b + np.random.randn(*x.shape) + 0.25"
   ]
  },
  {
   "cell_type": "code",
   "execution_count": 3,
   "id": "20b47dc2",
   "metadata": {},
   "outputs": [
    {
     "data": {
      "text/plain": [
       "<matplotlib.collections.PathCollection at 0x2052d09abb0>"
      ]
     },
     "execution_count": 3,
     "metadata": {},
     "output_type": "execute_result"
    },
    {
     "data": {
      "image/png": "[encoded data removed]",
      "text/plain": [
       "<Figure size 432x288 with 1 Axes>"
      ]
     },
     "metadata": {
      "needs_background": "light"
     },
     "output_type": "display_data"
    }
   ],
   "source": [
    "plt.scatter(x,y)"
   ]
  },
  {
   "cell_type": "code",
   "execution_count": 4,
   "id": "80b421e1",
   "metadata": {},
   "outputs": [],
   "source": [
    "class Model:\n",
    "    def __init__(self):\n",
    "        self.weight = tf.Variable(10.0)\n",
    "        self.bias   = tf.Variable(10.0)\n",
    "    \n",
    "    def __call__(self,x):\n",
    "        return self.weight * x + self.bias"
   ]
  },
  {
   "cell_type": "code",
   "execution_count": 5,
   "id": "497cc7cf",
   "metadata": {},
   "outputs": [],
   "source": [
    "def calculate_loss(y_actual, y_output):\n",
    "    return tf.reduce_mean(tf.square(y_actual - y_output))"
   ]
  },
  {
   "cell_type": "code",
   "execution_count": 6,
   "id": "6d48dd37",
   "metadata": {},
   "outputs": [],
   "source": [
    "def train(model, x, y, learning_rate):\n",
    "    with tf.GradientTape() as gt:\n",
    "        y_output = model(x)\n",
    "        loss = calculate_loss(y,y_output)\n",
    "    new_weight, new_bias = gt.gradient(loss, [model.weight, model.bias])\n",
    "    model.weight.assign_sub(new_weight * learning_rate)\n",
    "    model.bias.assign_sub(new_bias * learning_rate)"
   ]
  },
  {
   "cell_type": "code",
   "execution_count": 8,
   "id": "35114b3a",
   "metadata": {},
   "outputs": [
    {
     "name": "stdout",
     "output_type": "stream",
     "text": [
      "Epoch; 0, loss: 720.7357788085938\n",
      "Epoch; 1, loss: 511.9317321777344\n",
      "Epoch; 2, loss: 363.8862609863281\n",
      "Epoch; 3, loss: 258.8954772949219\n",
      "Epoch; 4, loss: 184.4167938232422\n",
      "Epoch; 5, loss: 131.56454467773438\n",
      "Epoch; 6, loss: 94.04289245605469\n",
      "Epoch; 7, loss: 67.39102935791016\n",
      "Epoch; 8, loss: 48.447898864746094\n",
      "Epoch; 9, loss: 34.97328567504883\n",
      "Epoch; 10, loss: 25.379344940185547\n",
      "Epoch; 11, loss: 18.540512084960938\n",
      "Epoch; 12, loss: 13.65869140625\n",
      "Epoch; 13, loss: 10.167890548706055\n",
      "Epoch; 14, loss: 7.666586875915527\n",
      "Epoch; 15, loss: 5.869839668273926\n",
      "Epoch; 16, loss: 4.575353145599365\n",
      "Epoch; 17, loss: 3.6394262313842773\n",
      "Epoch; 18, loss: 2.9599127769470215\n",
      "Epoch; 19, loss: 2.4641501903533936\n",
      "Epoch; 20, loss: 2.100397825241089\n",
      "Epoch; 21, loss: 1.8317673206329346\n",
      "Epoch; 22, loss: 1.631922960281372\n",
      "Epoch; 23, loss: 1.482031226158142\n",
      "Epoch; 24, loss: 1.3685928583145142\n",
      "Epoch; 25, loss: 1.2819082736968994\n",
      "Epoch; 26, loss: 1.2149882316589355\n",
      "Epoch; 27, loss: 1.1627768278121948\n",
      "Epoch; 28, loss: 1.1216025352478027\n",
      "Epoch; 29, loss: 1.0887842178344727\n",
      "Epoch; 30, loss: 1.062354326248169\n",
      "Epoch; 31, loss: 1.0408587455749512\n",
      "Epoch; 32, loss: 1.0232148170471191\n",
      "Epoch; 33, loss: 1.0086101293563843\n",
      "Epoch; 34, loss: 0.9964286684989929\n",
      "Epoch; 35, loss: 0.9861999750137329\n",
      "Epoch; 36, loss: 0.9775598049163818\n",
      "Epoch; 37, loss: 0.9702244400978088\n",
      "Epoch; 38, loss: 0.9639694094657898\n",
      "Epoch; 39, loss: 0.9586155414581299\n",
      "Epoch; 40, loss: 0.9540190100669861\n",
      "Epoch; 41, loss: 0.9500621557235718\n",
      "Epoch; 42, loss: 0.9466484189033508\n",
      "Epoch; 43, loss: 0.943697988986969\n",
      "Epoch; 44, loss: 0.9411441087722778\n",
      "Epoch; 45, loss: 0.9389308094978333\n",
      "Epoch; 46, loss: 0.937010645866394\n",
      "Epoch; 47, loss: 0.9353436231613159\n",
      "Epoch; 48, loss: 0.9338951110839844\n",
      "Epoch; 49, loss: 0.9326359629631042\n",
      "Epoch; 50, loss: 0.9315407276153564\n",
      "Epoch; 51, loss: 0.9305878281593323\n",
      "Epoch; 52, loss: 0.929758608341217\n",
      "Epoch; 53, loss: 0.9290366172790527\n",
      "Epoch; 54, loss: 0.9284082055091858\n",
      "Epoch; 55, loss: 0.9278607368469238\n",
      "Epoch; 56, loss: 0.9273840188980103\n",
      "Epoch; 57, loss: 0.9269688129425049\n",
      "Epoch; 58, loss: 0.9266069531440735\n",
      "Epoch; 59, loss: 0.926291823387146\n",
      "Epoch; 60, loss: 0.9260172843933105\n",
      "Epoch; 61, loss: 0.9257779121398926\n",
      "Epoch; 62, loss: 0.9255695939064026\n",
      "Epoch; 63, loss: 0.9253878593444824\n",
      "Epoch; 64, loss: 0.9252296686172485\n",
      "Epoch; 65, loss: 0.9250916838645935\n",
      "Epoch; 66, loss: 0.9249715209007263\n",
      "Epoch; 67, loss: 0.924866795539856\n",
      "Epoch; 68, loss: 0.9247756004333496\n",
      "Epoch; 69, loss: 0.9246960282325745\n",
      "Epoch; 70, loss: 0.9246267676353455\n",
      "Epoch; 71, loss: 0.9245663285255432\n",
      "Epoch; 72, loss: 0.9245137572288513\n",
      "Epoch; 73, loss: 0.924467921257019\n",
      "Epoch; 74, loss: 0.92442786693573\n",
      "Epoch; 75, loss: 0.9243930578231812\n",
      "Epoch; 76, loss: 0.9243627190589905\n",
      "Epoch; 77, loss: 0.9243362545967102\n",
      "Epoch; 78, loss: 0.9243131279945374\n",
      "Epoch; 79, loss: 0.9242931604385376\n",
      "Epoch; 80, loss: 0.9242756366729736\n",
      "Epoch; 81, loss: 0.9242603182792664\n",
      "Epoch; 82, loss: 0.9242469668388367\n",
      "Epoch; 83, loss: 0.9242354035377502\n",
      "Epoch; 84, loss: 0.9242254495620728\n",
      "Epoch; 85, loss: 0.924216628074646\n",
      "Epoch; 86, loss: 0.9242089986801147\n",
      "Epoch; 87, loss: 0.9242022037506104\n",
      "Epoch; 88, loss: 0.9241963028907776\n",
      "Epoch; 89, loss: 0.9241912961006165\n",
      "Epoch; 90, loss: 0.9241868853569031\n",
      "Epoch; 91, loss: 0.9241828918457031\n",
      "Epoch; 92, loss: 0.9241796731948853\n",
      "Epoch; 93, loss: 0.924176812171936\n",
      "Epoch; 94, loss: 0.9241742491722107\n",
      "Epoch; 95, loss: 0.924172043800354\n",
      "Epoch; 96, loss: 0.9241700172424316\n",
      "Epoch; 97, loss: 0.9241684079170227\n",
      "Epoch; 98, loss: 0.9241668581962585\n",
      "Epoch; 99, loss: 0.9241655468940735\n"
     ]
    }
   ],
   "source": [
    "model = Model()\n",
    "epochs = 100\n",
    "learning_rate = 0.15\n",
    "for epoch in range(epochs):\n",
    "    y_output = model(x)\n",
    "    loss = calculate_loss(y,y_output)\n",
    "    print(f\"Epoch; {epoch}, loss: {loss.numpy()}\")\n",
    "    train(model, x, y, learning_rate)"
   ]
  },
  {
   "cell_type": "code",
   "execution_count": 9,
   "id": "aad5b0ee",
   "metadata": {},
   "outputs": [
    {
     "name": "stdout",
     "output_type": "stream",
     "text": [
      "2.0174642\n",
      "0.8032105\n"
     ]
    }
   ],
   "source": [
    "print(model.weight.numpy())\n",
    "print(model.bias.numpy())"
   ]
  },
  {
   "cell_type": "code",
   "execution_count": 11,
   "id": "17e640b9",
   "metadata": {},
   "outputs": [
    {
     "data": {
      "text/plain": [
       "<matplotlib.collections.PathCollection at 0x2052e452250>"
      ]
     },
     "execution_count": 11,
     "metadata": {},
     "output_type": "execute_result"
    },
    {
     "data": {
      "image/png": "[encoded data removed]",
      "text/plain": [
       "<Figure size 432x288 with 1 Axes>"
      ]
     },
     "metadata": {
      "needs_background": "light"
     },
     "output_type": "display_data"
    }
   ],
   "source": [
    "new_x = np.linspace(0,4,100)\n",
    "new_y = model.weight.numpy() * x + model.bias.numpy()\n",
    "plt.scatter(new_x, new_y)\n",
    "plt.scatter(x,y)"
   ]
  },
  {
   "cell_type": "code",
   "execution_count": null,
   "id": "01b52fa9",
   "metadata": {},
   "outputs": [],
   "source": []
  }
 ],
 "metadata": {
  "kernelspec": {
   "display_name": "Python 3 (ipykernel)",
   "language": "python",
   "name": "python3"
  },
  "language_info": {
   "codemirror_mode": {
    "name": "ipython",
    "version": 3
   },
   "file_extension": ".py",
   "mimetype": "text/x-python",
   "name": "python",
   "nbconvert_exporter": "python",
   "pygments_lexer": "ipython3",
   "version": "3.8.12"
  }
 },
 "nbformat": 4,
 "nbformat_minor": 5
}
